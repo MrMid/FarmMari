{
 "cells": [
  {
   "cell_type": "code",
   "execution_count": 165,
   "metadata": {},
   "outputs": [],
   "source": [
    "import urllib.request as request\n",
    "import folium\n",
    "import plotly\n",
    "import plotly.plotly as py\n",
    "import plotly.graph_objs as go\n",
    "import json\n",
    "from pprint import pprint\n",
    "from collections import namedtuple"
   ]
  },
  {
   "cell_type": "markdown",
   "metadata": {},
   "source": [
    "## get data"
   ]
  },
  {
   "cell_type": "code",
   "execution_count": 178,
   "metadata": {},
   "outputs": [
    {
     "name": "stdout",
     "output_type": "stream",
     "text": [
      "682\n",
      "0\n",
      "02aa0000690000\n"
     ]
    }
   ],
   "source": [
    "url = \"https://api.pripoj.me/message/get/0004A30B001FB89F?token=xo9aPO0YBDZdfESRJwj0imwtRUzBIvmA\"\n",
    "\n",
    "iot_cloud_data = json.loads(request.urlopen(url).read().decode('utf-8'))\n",
    "payload = iot_cloud_data[\"records\"][0]['payloadHex']\n",
    "gas = int(payload[:4],16)\n",
    "noise = int(payload[4:8],16)\n",
    "\n",
    "print(gas)\n",
    "print(noise)\n",
    "print(payload)"
   ]
  },
  {
   "cell_type": "code",
   "execution_count": 183,
   "metadata": {
    "scrolled": true
   },
   "outputs": [
    {
     "name": "stdout",
     "output_type": "stream",
     "text": [
      "[684, 680, 682, 682, 682, 682, 704, 756, 690, 715, 710, 793, 722, 820, 706, 747, 689, 675, 669, 704, 731, 721, 746, 688, 674]\n",
      "Aw, snap! We don't have an account for ''. Want to try again? You can authenticate with your email address or username. Sign in is not case sensitive.\n",
      "\n",
      "Don't have an account? plot.ly\n",
      "\n",
      "Questions? accounts@plot.ly\n"
     ]
    },
    {
     "ename": "PlotlyError",
     "evalue": "Because you didn't supply a 'file_id' in the call, we're assuming you're trying to snag a figure from a url. You supplied the url, '', we expected it to start with 'https://plot.ly'.\nRun help on this function for more information.",
     "output_type": "error",
     "traceback": [
      "\u001b[1;31m---------------------------------------------------------------------------\u001b[0m",
      "\u001b[1;31mPlotlyError\u001b[0m                               Traceback (most recent call last)",
      "\u001b[1;32m<ipython-input-183-24b9e6a38289>\u001b[0m in \u001b[0;36m<module>\u001b[1;34m()\u001b[0m\n\u001b[0;32m     18\u001b[0m \u001b[1;33m\u001b[0m\u001b[0m\n\u001b[0;32m     19\u001b[0m \u001b[0mdata\u001b[0m \u001b[1;33m=\u001b[0m \u001b[1;33m[\u001b[0m\u001b[0mgas_trace\u001b[0m\u001b[1;33m]\u001b[0m\u001b[1;33m\u001b[0m\u001b[0m\n\u001b[1;32m---> 20\u001b[1;33m \u001b[0mpy\u001b[0m\u001b[1;33m.\u001b[0m\u001b[0miplot\u001b[0m\u001b[1;33m(\u001b[0m\u001b[0mdata\u001b[0m\u001b[1;33m,\u001b[0m\u001b[0mfilename\u001b[0m\u001b[1;33m=\u001b[0m\u001b[1;34m'basic-line'\u001b[0m\u001b[1;33m)\u001b[0m\u001b[1;33m\u001b[0m\u001b[0m\n\u001b[0m\u001b[0;32m     21\u001b[0m \u001b[1;33m\u001b[0m\u001b[0m\n",
      "\u001b[1;32m~\\Anaconda3\\lib\\site-packages\\plotly\\plotly\\plotly.py\u001b[0m in \u001b[0;36miplot\u001b[1;34m(figure_or_data, **plot_options)\u001b[0m\n\u001b[0;32m    162\u001b[0m         \u001b[0membed_options\u001b[0m\u001b[1;33m[\u001b[0m\u001b[1;34m'height'\u001b[0m\u001b[1;33m]\u001b[0m \u001b[1;33m=\u001b[0m \u001b[0mstr\u001b[0m\u001b[1;33m(\u001b[0m\u001b[0membed_options\u001b[0m\u001b[1;33m[\u001b[0m\u001b[1;34m'height'\u001b[0m\u001b[1;33m]\u001b[0m\u001b[1;33m)\u001b[0m \u001b[1;33m+\u001b[0m \u001b[1;34m'px'\u001b[0m\u001b[1;33m\u001b[0m\u001b[0m\n\u001b[0;32m    163\u001b[0m \u001b[1;33m\u001b[0m\u001b[0m\n\u001b[1;32m--> 164\u001b[1;33m     \u001b[1;32mreturn\u001b[0m \u001b[0mtools\u001b[0m\u001b[1;33m.\u001b[0m\u001b[0membed\u001b[0m\u001b[1;33m(\u001b[0m\u001b[0murl\u001b[0m\u001b[1;33m,\u001b[0m \u001b[1;33m**\u001b[0m\u001b[0membed_options\u001b[0m\u001b[1;33m)\u001b[0m\u001b[1;33m\u001b[0m\u001b[0m\n\u001b[0m\u001b[0;32m    165\u001b[0m \u001b[1;33m\u001b[0m\u001b[0m\n\u001b[0;32m    166\u001b[0m \u001b[1;33m\u001b[0m\u001b[0m\n",
      "\u001b[1;32m~\\Anaconda3\\lib\\site-packages\\plotly\\tools.py\u001b[0m in \u001b[0;36membed\u001b[1;34m(file_owner_or_url, file_id, width, height)\u001b[0m\n\u001b[0;32m    388\u001b[0m         \u001b[1;32melse\u001b[0m\u001b[1;33m:\u001b[0m\u001b[1;33m\u001b[0m\u001b[0m\n\u001b[0;32m    389\u001b[0m             \u001b[0murl\u001b[0m \u001b[1;33m=\u001b[0m \u001b[0mfile_owner_or_url\u001b[0m\u001b[1;33m\u001b[0m\u001b[0m\n\u001b[1;32m--> 390\u001b[1;33m         \u001b[1;32mreturn\u001b[0m \u001b[0mPlotlyDisplay\u001b[0m\u001b[1;33m(\u001b[0m\u001b[0murl\u001b[0m\u001b[1;33m,\u001b[0m \u001b[0mwidth\u001b[0m\u001b[1;33m,\u001b[0m \u001b[0mheight\u001b[0m\u001b[1;33m)\u001b[0m\u001b[1;33m\u001b[0m\u001b[0m\n\u001b[0m\u001b[0;32m    391\u001b[0m     \u001b[1;32melse\u001b[0m\u001b[1;33m:\u001b[0m\u001b[1;33m\u001b[0m\u001b[0m\n\u001b[0;32m    392\u001b[0m         if (get_config_defaults()['plotly_domain']\n",
      "\u001b[1;32m~\\Anaconda3\\lib\\site-packages\\plotly\\tools.py\u001b[0m in \u001b[0;36m__init__\u001b[1;34m(self, url, width, height)\u001b[0m\n\u001b[0;32m   1432\u001b[0m         \u001b[1;32mdef\u001b[0m \u001b[0m__init__\u001b[0m\u001b[1;33m(\u001b[0m\u001b[0mself\u001b[0m\u001b[1;33m,\u001b[0m \u001b[0murl\u001b[0m\u001b[1;33m,\u001b[0m \u001b[0mwidth\u001b[0m\u001b[1;33m,\u001b[0m \u001b[0mheight\u001b[0m\u001b[1;33m)\u001b[0m\u001b[1;33m:\u001b[0m\u001b[1;33m\u001b[0m\u001b[0m\n\u001b[0;32m   1433\u001b[0m             \u001b[0mself\u001b[0m\u001b[1;33m.\u001b[0m\u001b[0mresource\u001b[0m \u001b[1;33m=\u001b[0m \u001b[0murl\u001b[0m\u001b[1;33m\u001b[0m\u001b[0m\n\u001b[1;32m-> 1434\u001b[1;33m             \u001b[0mself\u001b[0m\u001b[1;33m.\u001b[0m\u001b[0membed_code\u001b[0m \u001b[1;33m=\u001b[0m \u001b[0mget_embed\u001b[0m\u001b[1;33m(\u001b[0m\u001b[0murl\u001b[0m\u001b[1;33m,\u001b[0m \u001b[0mwidth\u001b[0m\u001b[1;33m=\u001b[0m\u001b[0mwidth\u001b[0m\u001b[1;33m,\u001b[0m \u001b[0mheight\u001b[0m\u001b[1;33m=\u001b[0m\u001b[0mheight\u001b[0m\u001b[1;33m)\u001b[0m\u001b[1;33m\u001b[0m\u001b[0m\n\u001b[0m\u001b[0;32m   1435\u001b[0m             \u001b[0msuper\u001b[0m\u001b[1;33m(\u001b[0m\u001b[0mPlotlyDisplay\u001b[0m\u001b[1;33m,\u001b[0m \u001b[0mself\u001b[0m\u001b[1;33m)\u001b[0m\u001b[1;33m.\u001b[0m\u001b[0m__init__\u001b[0m\u001b[1;33m(\u001b[0m\u001b[0mdata\u001b[0m\u001b[1;33m=\u001b[0m\u001b[0mself\u001b[0m\u001b[1;33m.\u001b[0m\u001b[0membed_code\u001b[0m\u001b[1;33m)\u001b[0m\u001b[1;33m\u001b[0m\u001b[0m\n\u001b[0;32m   1436\u001b[0m \u001b[1;33m\u001b[0m\u001b[0m\n",
      "\u001b[1;32m~\\Anaconda3\\lib\\site-packages\\plotly\\tools.py\u001b[0m in \u001b[0;36mget_embed\u001b[1;34m(file_owner_or_url, file_id, width, height)\u001b[0m\n\u001b[0;32m    293\u001b[0m                 \u001b[1;34m\"'{1}'.\"\u001b[0m\u001b[1;33m\u001b[0m\u001b[0m\n\u001b[0;32m    294\u001b[0m                 \u001b[1;34m\"\\nRun help on this function for more information.\"\u001b[0m\u001b[1;33m\u001b[0m\u001b[0m\n\u001b[1;32m--> 295\u001b[1;33m                 \"\".format(url, plotly_rest_url))\n\u001b[0m\u001b[0;32m    296\u001b[0m         \u001b[0murlsplit\u001b[0m \u001b[1;33m=\u001b[0m \u001b[0msix\u001b[0m\u001b[1;33m.\u001b[0m\u001b[0mmoves\u001b[0m\u001b[1;33m.\u001b[0m\u001b[0murllib\u001b[0m\u001b[1;33m.\u001b[0m\u001b[0mparse\u001b[0m\u001b[1;33m.\u001b[0m\u001b[0murlparse\u001b[0m\u001b[1;33m(\u001b[0m\u001b[0murl\u001b[0m\u001b[1;33m)\u001b[0m\u001b[1;33m\u001b[0m\u001b[0m\n\u001b[0;32m    297\u001b[0m         \u001b[0mfile_owner\u001b[0m \u001b[1;33m=\u001b[0m \u001b[0murlsplit\u001b[0m\u001b[1;33m.\u001b[0m\u001b[0mpath\u001b[0m\u001b[1;33m.\u001b[0m\u001b[0msplit\u001b[0m\u001b[1;33m(\u001b[0m\u001b[1;34m'/'\u001b[0m\u001b[1;33m)\u001b[0m\u001b[1;33m[\u001b[0m\u001b[1;36m1\u001b[0m\u001b[1;33m]\u001b[0m\u001b[1;33m.\u001b[0m\u001b[0msplit\u001b[0m\u001b[1;33m(\u001b[0m\u001b[1;34m'~'\u001b[0m\u001b[1;33m)\u001b[0m\u001b[1;33m[\u001b[0m\u001b[1;36m1\u001b[0m\u001b[1;33m]\u001b[0m\u001b[1;33m\u001b[0m\u001b[0m\n",
      "\u001b[1;31mPlotlyError\u001b[0m: Because you didn't supply a 'file_id' in the call, we're assuming you're trying to snag a figure from a url. You supplied the url, '', we expected it to start with 'https://plot.ly'.\nRun help on this function for more information."
     ]
    }
   ],
   "source": [
    "url = \"https://api.pripoj.me/message/get/0004A30B001FB89F?token=xo9aPO0YBDZdfESRJwj0imwtRUzBIvmA\"\n",
    "\n",
    "iot_cloud_data = json.loads(request.urlopen(url).read().decode('utf-8'))\n",
    "gas = []\n",
    "noise = []\n",
    "time = []\n",
    "for point in iot_cloud_data[\"records\"]:\n",
    "    payload = point['payloadHex']\n",
    "    gas.append(int(payload[:4],16))\n",
    "    noise.append(int(payload[4:8],16))\n",
    "    time.append([\"pointcreatedAt\"])\n",
    "print(gas)\n",
    "\n",
    "gas_trace = go.Scatter(\n",
    "    x = time,\n",
    "    y = gas\n",
    ")\n",
    "\n",
    "data = [gas_trace]\n",
    "py.iplot(data,filename='basic-line')\n",
    "\n"
   ]
  },
  {
   "cell_type": "markdown",
   "metadata": {},
   "source": [
    "## set lamp status"
   ]
  },
  {
   "cell_type": "markdown",
   "metadata": {},
   "source": [
    "## print map"
   ]
  },
  {
   "cell_type": "code",
   "execution_count": 212,
   "metadata": {},
   "outputs": [
    {
     "name": "stdout",
     "output_type": "stream",
     "text": [
      "1221\n",
      "42\n",
      "04c52000000000\n"
     ]
    },
    {
     "data": {
      "text/html": [
       "<div style=\"width:100%;\"><div style=\"position:relative;width:100%;height:0;padding-bottom:60%;\"><iframe src=\"data:text/html;charset=utf-8;base64,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\" style=\"position:absolute;width:100%;height:100%;left:0;top:0;border:none !important;\" allowfullscreen webkitallowfullscreen mozallowfullscreen></iframe></div></div>"
      ],
      "text/plain": [
       "<folium.folium.Map at 0x1fa7f1ff358>"
      ]
     },
     "execution_count": 212,
     "metadata": {},
     "output_type": "execute_result"
    }
   ],
   "source": [
    "url = \"https://api.pripoj.me/message/get/0004A30B001FB89F?token=xo9aPO0YBDZdfESRJwj0imwtRUzBIvmA\"\n",
    "\n",
    "iot_cloud_data = json.loads(request.urlopen(url).read().decode('utf-8'))\n",
    "payload = iot_cloud_data[\"records\"][0]['payloadHex']\n",
    "gas = int(payload[:4],16)\n",
    "noise = 42\n",
    "\n",
    "print(gas)\n",
    "print(noise)\n",
    "print(payload)\n",
    "\n",
    "\n",
    "status = \"ok\"\n",
    "if(noise > 80): status = \"nok\"\n",
    "if(gas > 500): status = \"smog\"\n",
    "\n",
    "map_osm = folium.Map(location=[50.7701294,15.0490937],tiles='Stamen Toner',zoom_start=13)\n",
    "folium.Marker([50.7701294,15.0490937], popup='Velké množství CO2',icon=folium.Icon(color='red',icon='cloud')).add_to(map_osm)\n",
    "folium.Marker([50.7791294,15.0400937], popup='Lampa nesvítí',icon=folium.Icon(color='red')).add_to(map_osm)\n",
    "folium.Marker([50.77294,15.0450937], popup='Vše v pořádku',icon=folium.Icon()).add_to(map_osm)\n",
    "folium.Marker([50.7794,15.045937], popup='Vše v pořádku',icon=folium.Icon()).add_to(map_osm)\n",
    "folium.Marker([50.77394,15.0440937], popup='Vše v pořádku',icon=folium.Icon()).add_to(map_osm)\n",
    "folium.Marker([50.77594,15.0450937], popup='Vše v pořádku',icon=folium.Icon()).add_to(map_osm)\n",
    "with open(\"locations.json\",\"r\",encoding=\"utf-8\") as locations:\n",
    "    locations = json.load(locations)\n",
    "    \n",
    "    lat=locations[\"001fb89f\"][\"lat\"]\n",
    "    lon=locations[\"001fb89f\"][\"lon\"]\n",
    "    color=None\n",
    "    icon=None\n",
    "    if(status == \"ok\"):\n",
    "        color = \"green\"\n",
    "    elif(status == \"smog\"):\n",
    "        icon = \"cloud\"\n",
    "        color = \"red\"\n",
    "    else:\n",
    "        color=\"red\"\n",
    "        icon = \"info-sign\"\n",
    "    folium.Marker([lat, lon], \"U Jezu 525/4\" + \" - \" + status + \" - \" + \"gas: \" + str(gas) + \"ppm, \" + \"noise: \" + str(noise) + \"dB\",icon=folium.Icon(color=color,icon=icon)).add_to(map_osm)\n",
    "map_osm\n"
   ]
  }
 ],
 "metadata": {
  "kernelspec": {
   "display_name": "Python 3",
   "language": "python",
   "name": "python3"
  },
  "language_info": {
   "codemirror_mode": {
    "name": "ipython",
    "version": 3
   },
   "file_extension": ".py",
   "mimetype": "text/x-python",
   "name": "python",
   "nbconvert_exporter": "python",
   "pygments_lexer": "ipython3",
   "version": "3.6.4"
  }
 },
 "nbformat": 4,
 "nbformat_minor": 2
}
